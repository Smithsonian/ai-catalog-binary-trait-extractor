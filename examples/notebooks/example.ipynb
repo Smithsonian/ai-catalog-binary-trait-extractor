{
 "cells": [
  {
   "cell_type": "markdown",
   "id": "b20e38b7",
   "metadata": {},
   "source": [
    "A Jupyter Notebook Example"
   ]
  }
 ],
 "metadata": {
  "language_info": {
   "name": "python"
  }
 },
 "nbformat": 4,
 "nbformat_minor": 5
}
